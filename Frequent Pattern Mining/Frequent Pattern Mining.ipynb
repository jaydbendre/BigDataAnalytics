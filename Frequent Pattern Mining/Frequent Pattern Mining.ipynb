{
 "cells": [
  {
   "cell_type": "code",
   "execution_count": 1,
   "id": "4d0e3013",
   "metadata": {},
   "outputs": [],
   "source": [
    "# Using PCY Implementation"
   ]
  },
  {
   "cell_type": "code",
   "execution_count": 2,
   "id": "5d6ddf0c",
   "metadata": {},
   "outputs": [
    {
     "data": {
      "text/plain": [
       "['shrimp,almonds,avocado,vegetables mix,green grapes,whole weat flour,yams,cottage cheese,energy drink,tomato juice,low fat yogurt,green tea,honey,salad,mineral water,salmon,antioxydant juice,frozen smoothie,spinach,olive oil',\n",
       " 'burgers,meatballs,eggs',\n",
       " 'chutney',\n",
       " 'turkey,avocado',\n",
       " 'mineral water,milk,energy bar,whole wheat rice,green tea',\n",
       " 'low fat yogurt',\n",
       " 'whole wheat pasta,french fries',\n",
       " 'soup,light cream,shallot',\n",
       " 'frozen vegetables,spaghetti,green tea',\n",
       " 'french fries']"
      ]
     },
     "execution_count": 2,
     "metadata": {},
     "output_type": "execute_result"
    }
   ],
   "source": [
    "# Loading dataset\n",
    "from itertools import combinations\n",
    "data = sc.textFile(\"Market_Basket_Optimisation.csv\")\n",
    "data.take(10)"
   ]
  },
  {
   "cell_type": "code",
   "execution_count": 3,
   "id": "9b93c8f2",
   "metadata": {},
   "outputs": [
    {
     "data": {
      "text/plain": [
       "7501"
      ]
     },
     "execution_count": 3,
     "metadata": {},
     "output_type": "execute_result"
    }
   ],
   "source": [
    "# Total number of transactions\n",
    "data.count()"
   ]
  },
  {
   "cell_type": "code",
   "execution_count": 4,
   "id": "6f26f643",
   "metadata": {},
   "outputs": [
    {
     "data": {
      "text/plain": [
       "[['almonds',\n",
       "  'antioxydant juice',\n",
       "  'avocado',\n",
       "  'cottage cheese',\n",
       "  'energy drink',\n",
       "  'frozen smoothie',\n",
       "  'green grapes',\n",
       "  'green tea',\n",
       "  'honey',\n",
       "  'low fat yogurt',\n",
       "  'mineral water',\n",
       "  'olive oil',\n",
       "  'salad',\n",
       "  'salmon',\n",
       "  'shrimp',\n",
       "  'spinach',\n",
       "  'tomato juice',\n",
       "  'vegetables mix',\n",
       "  'whole weat flour',\n",
       "  'yams'],\n",
       " ['burgers', 'eggs', 'meatballs'],\n",
       " ['chutney'],\n",
       " ['avocado', 'turkey'],\n",
       " ['energy bar', 'green tea', 'milk', 'mineral water', 'whole wheat rice']]"
      ]
     },
     "execution_count": 4,
     "metadata": {},
     "output_type": "execute_result"
    }
   ],
   "source": [
    "# Converting into a list and sorting the values inside everylist\n",
    "input_list = data.map(lambda x:x.split(','))\n",
    "input_list = input_list.map(lambda x:sorted(x))\n",
    "input_list.take(5)"
   ]
  },
  {
   "cell_type": "code",
   "execution_count": 5,
   "id": "e89fb452",
   "metadata": {},
   "outputs": [
    {
     "data": {
      "text/plain": [
       "[('almonds', 'antioxydant juice'),\n",
       " ('almonds', 'avocado'),\n",
       " ('almonds', 'cottage cheese'),\n",
       " ('almonds', 'energy drink'),\n",
       " ('almonds', 'frozen smoothie')]"
      ]
     },
     "execution_count": 5,
     "metadata": {},
     "output_type": "execute_result"
    }
   ],
   "source": [
    "# Generating pairs from the list available\n",
    "pairs_input = input_list.map(lambda x: list(combinations(x,2)))\n",
    "pairs_input = pairs_input.flatMap(lambda x:x)\n",
    "pairs_input.take(5)"
   ]
  },
  {
   "cell_type": "code",
   "execution_count": 6,
   "id": "749eeed2",
   "metadata": {},
   "outputs": [
    {
     "data": {
      "text/plain": [
       "[((' asparagus', 'burgers'), 1),\n",
       " ((' asparagus', 'chocolate'), 1),\n",
       " ((' asparagus', 'energy bar'), 1),\n",
       " ((' asparagus', 'ground beef'), 1),\n",
       " ((' asparagus', 'shrimp'), 1)]"
      ]
     },
     "execution_count": 6,
     "metadata": {},
     "output_type": "execute_result"
    }
   ],
   "source": [
    "# Generating counts of all the pairs being generated\n",
    "count_pair = pairs_input.map(lambda x:(x,1)).sortByKey()\n",
    "count_pair_data = count_pair.reduceByKey(lambda x,y: x+y)\n",
    "count_pair_data.take(5)"
   ]
  },
  {
   "cell_type": "code",
   "execution_count": 7,
   "id": "24e5fb99",
   "metadata": {},
   "outputs": [
    {
     "data": {
      "text/plain": [
       "[('almonds', 1),\n",
       " ('antioxydant juice', 1),\n",
       " ('avocado', 1),\n",
       " ('cottage cheese', 1),\n",
       " ('energy drink', 1),\n",
       " ('frozen smoothie', 1),\n",
       " ('green grapes', 1),\n",
       " ('green tea', 1),\n",
       " ('honey', 1),\n",
       " ('low fat yogurt', 1)]"
      ]
     },
     "execution_count": 7,
     "metadata": {},
     "output_type": "execute_result"
    }
   ],
   "source": [
    "# Getting count of every item to get support\n",
    "data = input_list.flatMap(lambda x:x)\n",
    "data_map = data.map(lambda x: (x,1))\n",
    "data_map.take(10)"
   ]
  },
  {
   "cell_type": "code",
   "execution_count": 8,
   "id": "5a433f40",
   "metadata": {},
   "outputs": [
    {
     "data": {
      "text/plain": [
       "[('almonds', 153),\n",
       " ('antioxydant juice', 67),\n",
       " ('avocado', 250),\n",
       " ('cottage cheese', 239),\n",
       " ('energy drink', 200),\n",
       " ('frozen smoothie', 475),\n",
       " ('green grapes', 68),\n",
       " ('green tea', 991),\n",
       " ('honey', 356),\n",
       " ('low fat yogurt', 574),\n",
       " ('mineral water', 1788),\n",
       " ('olive oil', 494),\n",
       " ('salad', 37),\n",
       " ('salmon', 319),\n",
       " ('shrimp', 536)]"
      ]
     },
     "execution_count": 8,
     "metadata": {},
     "output_type": "execute_result"
    }
   ],
   "source": [
    "# Reducing the values to get counts\n",
    "data_count = data_map.reduceByKey(lambda x,y: x+y)\n",
    "data_count.take(15)"
   ]
  },
  {
   "cell_type": "code",
   "execution_count": 9,
   "id": "065a903f",
   "metadata": {},
   "outputs": [
    {
     "data": {
      "text/plain": [
       "['chocolate', 'eggs', 'french fries', 'mineral water', 'spaghetti']"
      ]
     },
     "execution_count": 9,
     "metadata": {},
     "output_type": "execute_result"
    }
   ],
   "source": [
    "# Filtering data with support greater than 0.133 ie. out of 7500 transactions select 1000\n",
    "freq_item = data_count.filter(lambda x: x[1] >=1000).sortByKey()\n",
    "freq_item = freq_item.map(lambda x:x[0])\n",
    "freq_item.take(10)"
   ]
  },
  {
   "cell_type": "code",
   "execution_count": 10,
   "id": "5eaed720",
   "metadata": {},
   "outputs": [
    {
     "data": {
      "text/plain": [
       "5"
      ]
     },
     "execution_count": 10,
     "metadata": {},
     "output_type": "execute_result"
    }
   ],
   "source": [
    "freq_item.count()"
   ]
  },
  {
   "cell_type": "code",
   "execution_count": 11,
   "id": "a4a12722",
   "metadata": {},
   "outputs": [
    {
     "data": {
      "text/plain": [
       "[('chocolate', 'eggs'),\n",
       " ('chocolate', 'french fries'),\n",
       " ('chocolate', 'mineral water'),\n",
       " ('chocolate', 'spaghetti'),\n",
       " ('eggs', 'french fries'),\n",
       " ('eggs', 'mineral water'),\n",
       " ('eggs', 'spaghetti'),\n",
       " ('french fries', 'mineral water'),\n",
       " ('french fries', 'spaghetti'),\n",
       " ('mineral water', 'spaghetti')]"
      ]
     },
     "execution_count": 11,
     "metadata": {},
     "output_type": "execute_result"
    }
   ],
   "source": [
    "# generating combinations\n",
    "combination = freq_item.map(lambda x: (1,x))\n",
    "combination= combination.groupByKey().map(lambda x: (x[0],(list(x[1]))))\n",
    "comb = combination.map(lambda x: (x[0],(list(combinations(x[1],2)))))\n",
    "comb = comb.flatMap(lambda x:x[1])\n",
    "comb.take(100)"
   ]
  },
  {
   "cell_type": "code",
   "execution_count": 12,
   "id": "19f36856",
   "metadata": {},
   "outputs": [
    {
     "data": {
      "text/plain": [
       "[(('chocolate', 'eggs'), 0),\n",
       " (('chocolate', 'french fries'), 1),\n",
       " (('chocolate', 'mineral water'), 2),\n",
       " (('chocolate', 'spaghetti'), 3),\n",
       " (('eggs', 'french fries'), 4),\n",
       " (('eggs', 'mineral water'), 5),\n",
       " (('eggs', 'spaghetti'), 6),\n",
       " (('french fries', 'mineral water'), 7),\n",
       " (('french fries', 'spaghetti'), 8),\n",
       " (('mineral water', 'spaghetti'), 9)]"
      ]
     },
     "execution_count": 12,
     "metadata": {},
     "output_type": "execute_result"
    }
   ],
   "source": [
    "# Attaching index with the itemsets\n",
    "comb=comb.zipWithIndex()\n",
    "comb.take(10)"
   ]
  },
  {
   "cell_type": "code",
   "execution_count": 13,
   "id": "10c7b561",
   "metadata": {},
   "outputs": [
    {
     "data": {
      "text/plain": [
       "[(0, ('chocolate', 'eggs')),\n",
       " (1, ('chocolate', 'french fries')),\n",
       " (2, ('chocolate', 'mineral water')),\n",
       " (3, ('chocolate', 'spaghetti')),\n",
       " (4, ('eggs', 'french fries')),\n",
       " (0, ('eggs', 'mineral water')),\n",
       " (1, ('eggs', 'spaghetti')),\n",
       " (2, ('french fries', 'mineral water')),\n",
       " (3, ('french fries', 'spaghetti')),\n",
       " (4, ('mineral water', 'spaghetti'))]"
      ]
     },
     "execution_count": 13,
     "metadata": {},
     "output_type": "execute_result"
    }
   ],
   "source": [
    "# Creating 5 buckets \n",
    "pairs_with_bucketno = comb.map(lambda x:(x[0],(x[1]%5)))\n",
    "pairs_with_bucketno.take(30)\n",
    "pairs_with_buc = pairs_with_bucketno.map(lambda xy:(xy[1],xy[0]))\n",
    "pairs_with_buc.take(10)"
   ]
  },
  {
   "cell_type": "code",
   "execution_count": 14,
   "id": "05748a9b",
   "metadata": {},
   "outputs": [
    {
     "data": {
      "text/plain": [
       "[(('chocolate', 'spaghetti'), (3, 295)),\n",
       " (('eggs', 'french fries'), (4, 273)),\n",
       " (('eggs', 'mineral water'), (0, 382)),\n",
       " (('french fries', 'mineral water'), (2, 253)),\n",
       " (('chocolate', 'eggs'), (0, 249)),\n",
       " (('chocolate', 'french fries'), (1, 258)),\n",
       " (('chocolate', 'mineral water'), (2, 396)),\n",
       " (('eggs', 'spaghetti'), (1, 274)),\n",
       " (('french fries', 'spaghetti'), (3, 207)),\n",
       " (('mineral water', 'spaghetti'), (4, 448))]"
      ]
     },
     "execution_count": 14,
     "metadata": {},
     "output_type": "execute_result"
    }
   ],
   "source": [
    "# Getting count of the occurences\n",
    "bucketcount = pairs_with_bucketno.join(count_pair_data)\n",
    "bucketcount.take(20)"
   ]
  },
  {
   "cell_type": "code",
   "execution_count": 15,
   "id": "04005a14",
   "metadata": {},
   "outputs": [
    {
     "data": {
      "text/plain": [
       "[(0, 631), (1, 532), (2, 649), (3, 502), (4, 721)]"
      ]
     },
     "execution_count": 15,
     "metadata": {},
     "output_type": "execute_result"
    }
   ],
   "source": [
    "# Bucket data generated\n",
    "bucket_freq=bucketcount.map(lambda x:(x[1][0],(x[0],x[1][1]))).sortByKey()\n",
    "bucket_1 = bucket_freq.map(lambda x: (x[0],(x[1][1]))).groupByKey().sortByKey().map(lambda x : (x[0],(sum(x[1])))).filter(lambda x:x[1]>=50)\n",
    "\n",
    "bucket_1.take(10)\n"
   ]
  },
  {
   "cell_type": "code",
   "execution_count": 16,
   "id": "6b746525",
   "metadata": {},
   "outputs": [
    {
     "name": "stdout",
     "output_type": "stream",
     "text": [
      "[0, 1, 2, 3, 4]\n"
     ]
    }
   ],
   "source": [
    "# Number of unique buckets\n",
    "freq_bucket = bucket_1.map(lambda x: x[0]).collect()\n",
    "print(freq_bucket)"
   ]
  },
  {
   "cell_type": "code",
   "execution_count": 17,
   "id": "38bacb3a",
   "metadata": {},
   "outputs": [
    {
     "data": {
      "text/plain": [
       "[(('chocolate', 'eggs'), 0),\n",
       " (('chocolate', 'french fries'), 1),\n",
       " (('chocolate', 'mineral water'), 2),\n",
       " (('chocolate', 'spaghetti'), 3),\n",
       " (('eggs', 'french fries'), 4),\n",
       " (('eggs', 'mineral water'), 0),\n",
       " (('eggs', 'spaghetti'), 1),\n",
       " (('french fries', 'mineral water'), 2),\n",
       " (('french fries', 'spaghetti'), 3),\n",
       " (('mineral water', 'spaghetti'), 4)]"
      ]
     },
     "execution_count": 17,
     "metadata": {},
     "output_type": "execute_result"
    }
   ],
   "source": [
    "\n",
    "pairs_with_bucketno.take(30)"
   ]
  },
  {
   "cell_type": "code",
   "execution_count": 18,
   "id": "901ff576",
   "metadata": {},
   "outputs": [],
   "source": [
    "#Checking if the pair matches with the hash generated and itemset in the bucket\n",
    "bitvector = pairs_with_bucketno.map(lambda x:(x,1 if x[1] in freq_bucket else 0 ))"
   ]
  },
  {
   "cell_type": "code",
   "execution_count": 19,
   "id": "40ad6a17",
   "metadata": {},
   "outputs": [
    {
     "data": {
      "text/plain": [
       "10"
      ]
     },
     "execution_count": 19,
     "metadata": {},
     "output_type": "execute_result"
    }
   ],
   "source": [
    "# Getting a bit vector\n",
    "bits_pairs= bitvector.map(lambda x:(x[0][0],x[1]))\n",
    "bits_pairs.take(10)\n",
    "bits_pairs.count()"
   ]
  },
  {
   "cell_type": "code",
   "execution_count": 20,
   "id": "b546c2dc",
   "metadata": {},
   "outputs": [
    {
     "data": {
      "text/plain": [
       "[(('chocolate', 'eggs'), 1),\n",
       " (('chocolate', 'french fries'), 1),\n",
       " (('chocolate', 'mineral water'), 1),\n",
       " (('chocolate', 'spaghetti'), 1),\n",
       " (('eggs', 'french fries'), 1),\n",
       " (('eggs', 'mineral water'), 1),\n",
       " (('eggs', 'spaghetti'), 1),\n",
       " (('french fries', 'mineral water'), 1),\n",
       " (('french fries', 'spaghetti'), 1),\n",
       " (('mineral water', 'spaghetti'), 1)]"
      ]
     },
     "execution_count": 20,
     "metadata": {},
     "output_type": "execute_result"
    }
   ],
   "source": [
    "bits_1 = bits_pairs.filter(lambda x: (x[1] ==1))\n",
    "bits_1.take(20)"
   ]
  },
  {
   "cell_type": "code",
   "execution_count": 21,
   "id": "d49cc8d5",
   "metadata": {},
   "outputs": [
    {
     "data": {
      "text/plain": [
       "10"
      ]
     },
     "execution_count": 21,
     "metadata": {},
     "output_type": "execute_result"
    }
   ],
   "source": [
    "bits_1.count()"
   ]
  },
  {
   "cell_type": "code",
   "execution_count": 22,
   "id": "6c39a406",
   "metadata": {},
   "outputs": [
    {
     "data": {
      "text/plain": [
       "[['chocolate', 'eggs'],\n",
       " ['chocolate', 'french fries'],\n",
       " ['chocolate', 'mineral water'],\n",
       " ['chocolate', 'spaghetti'],\n",
       " ['eggs', 'french fries'],\n",
       " ['eggs', 'mineral water'],\n",
       " ['eggs', 'spaghetti'],\n",
       " ['french fries', 'mineral water'],\n",
       " ['french fries', 'spaghetti'],\n",
       " ['mineral water', 'spaghetti']]"
      ]
     },
     "execution_count": 22,
     "metadata": {},
     "output_type": "execute_result"
    }
   ],
   "source": [
    "# frequent itemsets generated\n",
    "freq_itemset_2 = bits_1.map(lambda x : list(x[0]))\n",
    "freq_itemset_2.take(20)"
   ]
  },
  {
   "cell_type": "code",
   "execution_count": 23,
   "id": "d3d68af0",
   "metadata": {},
   "outputs": [
    {
     "data": {
      "text/plain": [
       "['chocolate', 'eggs', 'french fries', 'mineral water', 'spaghetti']"
      ]
     },
     "execution_count": 23,
     "metadata": {},
     "output_type": "execute_result"
    }
   ],
   "source": [
    "# Most frequently bought items\n",
    "freq_1 = []\n",
    "freq_2 = []\n",
    "for i in freq_item.collect():\n",
    "    freq_1.append(i)\n",
    "freq_1"
   ]
  },
  {
   "cell_type": "code",
   "execution_count": 24,
   "id": "49dfbe77",
   "metadata": {},
   "outputs": [
    {
     "name": "stdout",
     "output_type": "stream",
     "text": [
      "Frequent Itemsets generated are: \n",
      "['chocolate', 'eggs']\n",
      "['chocolate', 'french fries']\n",
      "['chocolate', 'mineral water']\n",
      "['chocolate', 'spaghetti']\n",
      "['eggs', 'french fries']\n",
      "['eggs', 'mineral water']\n",
      "['eggs', 'spaghetti']\n",
      "['french fries', 'mineral water']\n",
      "['french fries', 'spaghetti']\n",
      "['mineral water', 'spaghetti']\n"
     ]
    }
   ],
   "source": [
    "# Frequent itemsets obtained using PCY\n",
    "freq_2.append(freq_itemset_2.collect())\n",
    "print(\"Frequent Itemsets generated are: \")\n",
    "for pair in freq_2[0]:\n",
    "    print(pair)"
   ]
  },
  {
   "cell_type": "code",
   "execution_count": null,
   "id": "b8ac81ac",
   "metadata": {},
   "outputs": [],
   "source": []
  },
  {
   "cell_type": "code",
   "execution_count": 25,
   "id": "f49bacc6",
   "metadata": {},
   "outputs": [],
   "source": [
    "#Using pyspark FPGrowth Library"
   ]
  },
  {
   "cell_type": "code",
   "execution_count": 33,
   "id": "c4f9b7df",
   "metadata": {},
   "outputs": [
    {
     "name": "stdout",
     "output_type": "stream",
     "text": [
      "Frequent Itemsets generated are: \n",
      "FreqItemset(items=['mineral water'], freq=1788)\n",
      "FreqItemset(items=['eggs'], freq=1348)\n",
      "FreqItemset(items=['spaghetti'], freq=1306)\n",
      "FreqItemset(items=['french fries'], freq=1282)\n",
      "FreqItemset(items=['chocolate'], freq=1229)\n",
      "FreqItemset(items=['green tea'], freq=991)\n",
      "FreqItemset(items=['milk'], freq=972)\n"
     ]
    }
   ],
   "source": [
    "from pyspark.mllib.fpm import FPGrowth\n",
    "data = sc.textFile(\"Market_Basket_Optimisation.csv\")\n",
    "transactions = data.map(lambda line: sorted(set(line.split(','))))\n",
    "model = FPGrowth.train(transactions, minSupport = 0.1, numPartitions = 10)\n",
    "result = model.freqItemsets().collect()\n",
    "\n",
    "print(\"Frequent Itemsets generated are: \")\n",
    "for itemset in result:\n",
    "    print(itemset)"
   ]
  },
  {
   "cell_type": "code",
   "execution_count": null,
   "id": "c539d649",
   "metadata": {},
   "outputs": [],
   "source": []
  }
 ],
 "metadata": {
  "kernelspec": {
   "display_name": "Python 3",
   "language": "python",
   "name": "python3"
  },
  "language_info": {
   "codemirror_mode": {
    "name": "ipython",
    "version": 3
   },
   "file_extension": ".py",
   "mimetype": "text/x-python",
   "name": "python",
   "nbconvert_exporter": "python",
   "pygments_lexer": "ipython3",
   "version": "3.7.0"
  }
 },
 "nbformat": 4,
 "nbformat_minor": 5
}
