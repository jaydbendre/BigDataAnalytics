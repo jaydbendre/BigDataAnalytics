{
 "cells": [
  {
   "cell_type": "markdown",
   "id": "e3835921",
   "metadata": {},
   "source": [
    "### Performing the Girvan - Newman Algorithm using Spark, Graphframes and NetworkX"
   ]
  },
  {
   "cell_type": "code",
   "execution_count": 1,
   "id": "a47ccd20",
   "metadata": {},
   "outputs": [
    {
     "name": "stderr",
     "output_type": "stream",
     "text": [
      "\n",
      "Bad key \"text.kerning_factor\" on line 4 in\n",
      "/home/training/miniconda3/envs/pyspark_env/lib/python3.7/site-packages/matplotlib/mpl-data/stylelib/_classic_test_patch.mplstyle.\n",
      "You probably need to get an updated matplotlibrc file from\n",
      "http://github.com/matplotlib/matplotlib/blob/master/matplotlibrc.template\n",
      "or from the matplotlib source distribution\n"
     ]
    }
   ],
   "source": [
    "# Loading all the libraries required\n",
    "from graphframes import *\n",
    "import networkx as nx\n",
    "from pyspark import *\n",
    "from pyspark.sql import *\n",
    "import matplotlib.pyplot as plt\n",
    "%matplotlib inline"
   ]
  },
  {
   "cell_type": "code",
   "execution_count": 2,
   "id": "02e2dc60",
   "metadata": {},
   "outputs": [
    {
     "name": "stdout",
     "output_type": "stream",
     "text": [
      "Vertices : \n",
      "+---+-------+---+\n",
      "| id|   name|age|\n",
      "+---+-------+---+\n",
      "|  a|  Alice| 34|\n",
      "|  b|    Bob| 36|\n",
      "|  c|Charlie| 30|\n",
      "|  d|  David| 29|\n",
      "|  e| Esther| 32|\n",
      "|  f|  Fanny| 36|\n",
      "|  g|  Gabby| 60|\n",
      "|  h|   Mark| 61|\n",
      "|  i| Gunter| 62|\n",
      "|  j|  Marit| 63|\n",
      "+---+-------+---+\n",
      "\n",
      "Edges : \n",
      "+---+---+------------+\n",
      "|src|dst|relationship|\n",
      "+---+---+------------+\n",
      "|  a|  b|      friend|\n",
      "|  a|  e|      follow|\n",
      "|  c|  a|      follow|\n",
      "|  c|  f|      follow|\n",
      "|  g|  h|      follow|\n",
      "|  h|  i|      friend|\n",
      "|  h|  j|      friend|\n",
      "|  j|  h|      friend|\n",
      "|  e|  f|      friend|\n",
      "|  f|  h|      follow|\n",
      "+---+---+------------+\n",
      "\n",
      "+---+------+\n",
      "| id|degree|\n",
      "+---+------+\n",
      "|  g|     1|\n",
      "|  f|     3|\n",
      "|  e|     2|\n",
      "|  h|     5|\n",
      "|  c|     2|\n",
      "|  i|     1|\n",
      "|  j|     2|\n",
      "|  b|     1|\n",
      "|  a|     3|\n",
      "+---+------+\n",
      "\n"
     ]
    }
   ],
   "source": [
    "\n",
    "# Initializing spark session\n",
    "spark = SparkSession.builder.appName('fun').getOrCreate()\n",
    "\n",
    "# Creating a demo dataframe with Vertex and Edge Data \n",
    "vertices = spark.createDataFrame([\n",
    "                                  (\"a\", \"Alice\", 34),\n",
    "                                  (\"b\", \"Bob\", 36),\n",
    "                                  (\"c\", \"Charlie\", 30),\n",
    "                                  (\"d\", \"David\", 29),\n",
    "                                  (\"e\", \"Esther\", 32),\n",
    "                                  (\"f\", \"Fanny\", 36),\n",
    "                                  (\"g\", \"Gabby\", 60),\n",
    "                                  (\"h\", \"Mark\", 61),\n",
    "                                  (\"i\", \"Gunter\", 62),\n",
    "                                  (\"j\", \"Marit\", 63)], \n",
    "                                  [\"id\", \"name\", \"age\"])\n",
    "\n",
    "edges = spark.createDataFrame([\n",
    "                              (\"a\", \"b\", \"friend\"),\n",
    "                              (\"a\", \"e\", \"follow\"),\n",
    "                              (\"c\", \"a\", \"follow\"),\n",
    "                              (\"c\", \"f\", \"follow\"),\n",
    "                              (\"g\", \"h\", \"follow\"),\n",
    "                              (\"h\", \"i\", \"friend\"),\n",
    "                              (\"h\", \"j\", \"friend\"),\n",
    "                              (\"j\", \"h\", \"friend\"),\n",
    "                              (\"e\", \"f\", \"friend\"),\n",
    "                              (\"f\", \"h\", \"follow\")], \n",
    "                              [\"src\", \"dst\", \"relationship\"])\n",
    "\n",
    "# Creating the Graph\n",
    "g = GraphFrame(vertices, edges)\n",
    "\n",
    "#Viewing the edges and the vertices\n",
    "print(\"Vertices : \")\n",
    "g.vertices.show()\n",
    "print(\"Edges : \")\n",
    "g.edges.show()\n",
    "\n",
    "## Check the number of edges of each vertex\n",
    "g.degrees.show()"
   ]
  },
  {
   "cell_type": "code",
   "execution_count": 3,
   "id": "827f2e80",
   "metadata": {},
   "outputs": [],
   "source": [
    "# Function to visualize the graph\n",
    "\n",
    "def PlotGraph(edge_list, colors = [\"red\",\"green\",\"blue\",\"yellow\",\"orange\",\"pink\",\"grey\",\"cyan\",\"magenta\",\"white\"]):\n",
    "    Gplot = nx.Graph()\n",
    "    for row in edge_list.select(\"src\",\"dst\").take(50):\n",
    "        Gplot.add_edge(row[\"src\"],row[\"dst\"])\n",
    "    \n",
    "    pos = nx.spring_layout(Gplot)\n",
    "    plt.figure(figsize=(12,8))\n",
    "    plt.subplot(121)\n",
    "    nx.draw(Gplot, with_labels = True, node_size = 1000, width = 0.3, node_color = colors, pos= pos, font_size = 20)"
   ]
  },
  {
   "cell_type": "code",
   "execution_count": 4,
   "id": "dde0b214",
   "metadata": {},
   "outputs": [
    {
     "data": {
      "image/png": "[encoded data removed]",
      "text/plain": [
       "<Figure size 864x576 with 1 Axes>"
      ]
     },
     "metadata": {},
     "output_type": "display_data"
    }
   ],
   "source": [
    "PlotGraph(g.edges)"
   ]
  },
  {
   "cell_type": "code",
   "execution_count": 5,
   "id": "10609b7c",
   "metadata": {},
   "outputs": [],
   "source": [
    "# Helper functions\n",
    "\n",
    "def convert_to_graphX(graph):\n",
    "    Gplot = nx.Graph()\n",
    "    for row in graph.edges.select(\"src\",\"dst\").take(50):\n",
    "        Gplot.add_edge(row[\"src\"],row[\"dst\"])\n",
    "    \n",
    "    return Gplot\n",
    "\n",
    "# Determining removing the edge\n",
    "def edge_to_remove(graph):\n",
    "    G_dict = nx.edge_betweenness_centrality(graph)\n",
    "    edge = ()\n",
    "\n",
    "    # extract the edge with highest edge betweenness centrality score\n",
    "    for key, value in sorted(G_dict.items(), key=lambda item: item[1], reverse = True):\n",
    "        edge = key\n",
    "        break\n",
    "\n",
    "    return edge\n",
    "\n",
    "def girvan_newman(graph):\n",
    "    graph = convert_to_graphX(graph)\n",
    "    sg = nx.connected_components(graph)\n",
    "    sg_count = nx.number_connected_components(graph)\n",
    "\n",
    "    while(sg_count == 1):\n",
    "        graph.remove_edge(edge_to_remove(graph)[0], edge_to_remove(graph)[1])\n",
    "        sg = nx.connected_components(graph)\n",
    "        sg_count = nx.number_connected_components(graph)\n",
    "\n",
    "    return sg\n",
    "                       "
   ]
  },
  {
   "cell_type": "code",
   "execution_count": 6,
   "id": "ea6483f4",
   "metadata": {},
   "outputs": [],
   "source": [
    "c = girvan_newman(g)"
   ]
  },
  {
   "cell_type": "code",
   "execution_count": 7,
   "id": "b6a69c14",
   "metadata": {},
   "outputs": [
    {
     "name": "stdout",
     "output_type": "stream",
     "text": [
      "Community #1\n",
      "{'b', 'a', 'c', 'f', 'e'}\n",
      "Community #2\n",
      "{'g', 'i', 'j', 'h'}\n"
     ]
    }
   ],
   "source": [
    "k = 1\n",
    "comm = []\n",
    "for i in c:\n",
    "    print(\"Community #{}\".format(k))\n",
    "    print(i)\n",
    "    comm.append(list(sorted(i)))\n",
    "    k+=1"
   ]
  },
  {
   "cell_type": "code",
   "execution_count": 8,
   "id": "749fa249",
   "metadata": {},
   "outputs": [],
   "source": [
    "# Plotting communities\n",
    "\n",
    "def plot_communities(graph,comm):    \n",
    "    graph = convert_to_graphX(g)\n",
    "    color_map = []\n",
    "    for node in graph:\n",
    "        if node in comm[0]:\n",
    "            color_map.append(\"red\")\n",
    "        else:\n",
    "            color_map.append(\"cyan\")\n",
    "    pos = nx.spring_layout(graph)\n",
    "    nx.draw(graph, with_labels = True, node_size = 1000, width = 0.3, node_color = color_map, \n",
    "            pos= pos, font_size = 20)\n",
    "    plt.show()"
   ]
  },
  {
   "cell_type": "code",
   "execution_count": 9,
   "id": "f0d3175d",
   "metadata": {},
   "outputs": [
    {
     "name": "stdout",
     "output_type": "stream",
     "text": [
      "Communities Plotted are: \n"
     ]
    },
    {
     "data": {
      "image/png": "[encoded data removed]",
      "text/plain": [
       "<Figure size 432x288 with 1 Axes>"
      ]
     },
     "metadata": {},
     "output_type": "display_data"
    }
   ],
   "source": [
    "print(\"Communities Plotted are: \")\n",
    "plot_communities(g,comm)"
   ]
  }
 ],
 "metadata": {
  "kernelspec": {
   "display_name": "Python 3",
   "language": "python",
   "name": "python3"
  },
  "language_info": {
   "codemirror_mode": {
    "name": "ipython",
    "version": 3
   },
   "file_extension": ".py",
   "mimetype": "text/x-python",
   "name": "python",
   "nbconvert_exporter": "python",
   "pygments_lexer": "ipython3",
   "version": "3.7.0"
  }
 },
 "nbformat": 4,
 "nbformat_minor": 5
}
